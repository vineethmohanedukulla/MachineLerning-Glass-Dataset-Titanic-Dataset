{
 "cells": [
  {
   "cell_type": "code",
   "execution_count": 11,
   "id": "a4069878",
   "metadata": {},
   "outputs": [],
   "source": [
    "import pandas as pd\n",
    "import numpy as np\n",
    "import random as rndda\n",
    "\n",
    "# visualization\n",
    "import seaborn as sns\n",
    "import matplotlib.pyplot as plt\n",
    "\n",
    "# machine learning\n",
    "from sklearn.linear_model import LogisticRegression, RidgeClassifierCV\n",
    "from sklearn.svm import SVC, LinearSVC\n",
    "from sklearn.ensemble import (RandomForestClassifier, GradientBoostingClassifier)\n",
    "from sklearn.neighbors import KNeighborsClassifier\n",
    "from sklearn.naive_bayes import GaussianNB\n",
    "from sklearn.linear_model import Perceptron\n",
    "from sklearn.linear_model import SGDClassifier\n",
    "from sklearn.tree import DecisionTreeClassifier\n",
    "from sklearn.model_selection import cross_val_score, GridSearchCV\n",
    "from sklearn.metrics import accuracy_score\n",
    "from sklearn.naive_bayes import GaussianNB\n",
    "from sklearn import metrics\n",
    "\n",
    "from sklearn.model_selection import train_test_split"
   ]
  },
  {
   "cell_type": "markdown",
   "id": "56524e77",
   "metadata": {},
   "source": [
    "## Question 2  using pandas we have read the glass data."
   ]
  },
  {
   "cell_type": "code",
   "execution_count": 12,
   "id": "41b929f6",
   "metadata": {},
   "outputs": [
    {
     "data": {
      "text/html": [
       "<div>\n",
       "<style scoped>\n",
       "    .dataframe tbody tr th:only-of-type {\n",
       "        vertical-align: middle;\n",
       "    }\n",
       "\n",
       "    .dataframe tbody tr th {\n",
       "        vertical-align: top;\n",
       "    }\n",
       "\n",
       "    .dataframe thead th {\n",
       "        text-align: right;\n",
       "    }\n",
       "</style>\n",
       "<table border=\"1\" class=\"dataframe\">\n",
       "  <thead>\n",
       "    <tr style=\"text-align: right;\">\n",
       "      <th></th>\n",
       "      <th>RI</th>\n",
       "      <th>Na</th>\n",
       "      <th>Mg</th>\n",
       "      <th>Al</th>\n",
       "      <th>Si</th>\n",
       "      <th>K</th>\n",
       "      <th>Ca</th>\n",
       "      <th>Ba</th>\n",
       "      <th>Fe</th>\n",
       "      <th>Type</th>\n",
       "    </tr>\n",
       "  </thead>\n",
       "  <tbody>\n",
       "    <tr>\n",
       "      <th>0</th>\n",
       "      <td>1.52101</td>\n",
       "      <td>13.64</td>\n",
       "      <td>4.49</td>\n",
       "      <td>1.10</td>\n",
       "      <td>71.78</td>\n",
       "      <td>0.06</td>\n",
       "      <td>8.75</td>\n",
       "      <td>0.00</td>\n",
       "      <td>0.0</td>\n",
       "      <td>1</td>\n",
       "    </tr>\n",
       "    <tr>\n",
       "      <th>1</th>\n",
       "      <td>1.51761</td>\n",
       "      <td>13.89</td>\n",
       "      <td>3.60</td>\n",
       "      <td>1.36</td>\n",
       "      <td>72.73</td>\n",
       "      <td>0.48</td>\n",
       "      <td>7.83</td>\n",
       "      <td>0.00</td>\n",
       "      <td>0.0</td>\n",
       "      <td>1</td>\n",
       "    </tr>\n",
       "    <tr>\n",
       "      <th>2</th>\n",
       "      <td>1.51618</td>\n",
       "      <td>13.53</td>\n",
       "      <td>3.55</td>\n",
       "      <td>1.54</td>\n",
       "      <td>72.99</td>\n",
       "      <td>0.39</td>\n",
       "      <td>7.78</td>\n",
       "      <td>0.00</td>\n",
       "      <td>0.0</td>\n",
       "      <td>1</td>\n",
       "    </tr>\n",
       "    <tr>\n",
       "      <th>3</th>\n",
       "      <td>1.51766</td>\n",
       "      <td>13.21</td>\n",
       "      <td>3.69</td>\n",
       "      <td>1.29</td>\n",
       "      <td>72.61</td>\n",
       "      <td>0.57</td>\n",
       "      <td>8.22</td>\n",
       "      <td>0.00</td>\n",
       "      <td>0.0</td>\n",
       "      <td>1</td>\n",
       "    </tr>\n",
       "    <tr>\n",
       "      <th>4</th>\n",
       "      <td>1.51742</td>\n",
       "      <td>13.27</td>\n",
       "      <td>3.62</td>\n",
       "      <td>1.24</td>\n",
       "      <td>73.08</td>\n",
       "      <td>0.55</td>\n",
       "      <td>8.07</td>\n",
       "      <td>0.00</td>\n",
       "      <td>0.0</td>\n",
       "      <td>1</td>\n",
       "    </tr>\n",
       "    <tr>\n",
       "      <th>...</th>\n",
       "      <td>...</td>\n",
       "      <td>...</td>\n",
       "      <td>...</td>\n",
       "      <td>...</td>\n",
       "      <td>...</td>\n",
       "      <td>...</td>\n",
       "      <td>...</td>\n",
       "      <td>...</td>\n",
       "      <td>...</td>\n",
       "      <td>...</td>\n",
       "    </tr>\n",
       "    <tr>\n",
       "      <th>209</th>\n",
       "      <td>1.51623</td>\n",
       "      <td>14.14</td>\n",
       "      <td>0.00</td>\n",
       "      <td>2.88</td>\n",
       "      <td>72.61</td>\n",
       "      <td>0.08</td>\n",
       "      <td>9.18</td>\n",
       "      <td>1.06</td>\n",
       "      <td>0.0</td>\n",
       "      <td>7</td>\n",
       "    </tr>\n",
       "    <tr>\n",
       "      <th>210</th>\n",
       "      <td>1.51685</td>\n",
       "      <td>14.92</td>\n",
       "      <td>0.00</td>\n",
       "      <td>1.99</td>\n",
       "      <td>73.06</td>\n",
       "      <td>0.00</td>\n",
       "      <td>8.40</td>\n",
       "      <td>1.59</td>\n",
       "      <td>0.0</td>\n",
       "      <td>7</td>\n",
       "    </tr>\n",
       "    <tr>\n",
       "      <th>211</th>\n",
       "      <td>1.52065</td>\n",
       "      <td>14.36</td>\n",
       "      <td>0.00</td>\n",
       "      <td>2.02</td>\n",
       "      <td>73.42</td>\n",
       "      <td>0.00</td>\n",
       "      <td>8.44</td>\n",
       "      <td>1.64</td>\n",
       "      <td>0.0</td>\n",
       "      <td>7</td>\n",
       "    </tr>\n",
       "    <tr>\n",
       "      <th>212</th>\n",
       "      <td>1.51651</td>\n",
       "      <td>14.38</td>\n",
       "      <td>0.00</td>\n",
       "      <td>1.94</td>\n",
       "      <td>73.61</td>\n",
       "      <td>0.00</td>\n",
       "      <td>8.48</td>\n",
       "      <td>1.57</td>\n",
       "      <td>0.0</td>\n",
       "      <td>7</td>\n",
       "    </tr>\n",
       "    <tr>\n",
       "      <th>213</th>\n",
       "      <td>1.51711</td>\n",
       "      <td>14.23</td>\n",
       "      <td>0.00</td>\n",
       "      <td>2.08</td>\n",
       "      <td>73.36</td>\n",
       "      <td>0.00</td>\n",
       "      <td>8.62</td>\n",
       "      <td>1.67</td>\n",
       "      <td>0.0</td>\n",
       "      <td>7</td>\n",
       "    </tr>\n",
       "  </tbody>\n",
       "</table>\n",
       "<p>214 rows × 10 columns</p>\n",
       "</div>"
      ],
      "text/plain": [
       "          RI     Na    Mg    Al     Si     K    Ca    Ba   Fe  Type\n",
       "0    1.52101  13.64  4.49  1.10  71.78  0.06  8.75  0.00  0.0     1\n",
       "1    1.51761  13.89  3.60  1.36  72.73  0.48  7.83  0.00  0.0     1\n",
       "2    1.51618  13.53  3.55  1.54  72.99  0.39  7.78  0.00  0.0     1\n",
       "3    1.51766  13.21  3.69  1.29  72.61  0.57  8.22  0.00  0.0     1\n",
       "4    1.51742  13.27  3.62  1.24  73.08  0.55  8.07  0.00  0.0     1\n",
       "..       ...    ...   ...   ...    ...   ...   ...   ...  ...   ...\n",
       "209  1.51623  14.14  0.00  2.88  72.61  0.08  9.18  1.06  0.0     7\n",
       "210  1.51685  14.92  0.00  1.99  73.06  0.00  8.40  1.59  0.0     7\n",
       "211  1.52065  14.36  0.00  2.02  73.42  0.00  8.44  1.64  0.0     7\n",
       "212  1.51651  14.38  0.00  1.94  73.61  0.00  8.48  1.57  0.0     7\n",
       "213  1.51711  14.23  0.00  2.08  73.36  0.00  8.62  1.67  0.0     7\n",
       "\n",
       "[214 rows x 10 columns]"
      ]
     },
     "execution_count": 12,
     "metadata": {},
     "output_type": "execute_result"
    }
   ],
   "source": [
    "main_df = pd.read_csv('glass.csv')\n",
    "main_df"
   ]
  },
  {
   "cell_type": "markdown",
   "id": "fd407d01",
   "metadata": {},
   "source": [
    "##In Above code, Using read function to read the glass data."
   ]
  },
  {
   "cell_type": "code",
   "execution_count": 13,
   "id": "6a5bb4a5",
   "metadata": {},
   "outputs": [
    {
     "name": "stdout",
     "output_type": "stream",
     "text": [
      "['RI' 'Na' 'Mg' 'Al' 'Si' 'K' 'Ca' 'Ba' 'Fe' 'Type']\n"
     ]
    }
   ],
   "source": [
    "print(main_df.columns.values)"
   ]
  },
  {
   "cell_type": "markdown",
   "id": "809eaa68",
   "metadata": {},
   "source": [
    "##In Above code, Printing the column values."
   ]
  },
  {
   "cell_type": "code",
   "execution_count": 14,
   "id": "c2981cb8",
   "metadata": {},
   "outputs": [
    {
     "data": {
      "text/html": [
       "<div>\n",
       "<style scoped>\n",
       "    .dataframe tbody tr th:only-of-type {\n",
       "        vertical-align: middle;\n",
       "    }\n",
       "\n",
       "    .dataframe tbody tr th {\n",
       "        vertical-align: top;\n",
       "    }\n",
       "\n",
       "    .dataframe thead th {\n",
       "        text-align: right;\n",
       "    }\n",
       "</style>\n",
       "<table border=\"1\" class=\"dataframe\">\n",
       "  <thead>\n",
       "    <tr style=\"text-align: right;\">\n",
       "      <th></th>\n",
       "      <th>RI</th>\n",
       "      <th>Na</th>\n",
       "      <th>Mg</th>\n",
       "      <th>Al</th>\n",
       "      <th>Si</th>\n",
       "      <th>K</th>\n",
       "      <th>Ca</th>\n",
       "      <th>Ba</th>\n",
       "      <th>Fe</th>\n",
       "      <th>Type</th>\n",
       "    </tr>\n",
       "  </thead>\n",
       "  <tbody>\n",
       "    <tr>\n",
       "      <th>0</th>\n",
       "      <td>1.52101</td>\n",
       "      <td>13.64</td>\n",
       "      <td>4.49</td>\n",
       "      <td>1.10</td>\n",
       "      <td>71.78</td>\n",
       "      <td>0.06</td>\n",
       "      <td>8.75</td>\n",
       "      <td>0.0</td>\n",
       "      <td>0.0</td>\n",
       "      <td>1</td>\n",
       "    </tr>\n",
       "    <tr>\n",
       "      <th>1</th>\n",
       "      <td>1.51761</td>\n",
       "      <td>13.89</td>\n",
       "      <td>3.60</td>\n",
       "      <td>1.36</td>\n",
       "      <td>72.73</td>\n",
       "      <td>0.48</td>\n",
       "      <td>7.83</td>\n",
       "      <td>0.0</td>\n",
       "      <td>0.0</td>\n",
       "      <td>1</td>\n",
       "    </tr>\n",
       "    <tr>\n",
       "      <th>2</th>\n",
       "      <td>1.51618</td>\n",
       "      <td>13.53</td>\n",
       "      <td>3.55</td>\n",
       "      <td>1.54</td>\n",
       "      <td>72.99</td>\n",
       "      <td>0.39</td>\n",
       "      <td>7.78</td>\n",
       "      <td>0.0</td>\n",
       "      <td>0.0</td>\n",
       "      <td>1</td>\n",
       "    </tr>\n",
       "    <tr>\n",
       "      <th>3</th>\n",
       "      <td>1.51766</td>\n",
       "      <td>13.21</td>\n",
       "      <td>3.69</td>\n",
       "      <td>1.29</td>\n",
       "      <td>72.61</td>\n",
       "      <td>0.57</td>\n",
       "      <td>8.22</td>\n",
       "      <td>0.0</td>\n",
       "      <td>0.0</td>\n",
       "      <td>1</td>\n",
       "    </tr>\n",
       "    <tr>\n",
       "      <th>4</th>\n",
       "      <td>1.51742</td>\n",
       "      <td>13.27</td>\n",
       "      <td>3.62</td>\n",
       "      <td>1.24</td>\n",
       "      <td>73.08</td>\n",
       "      <td>0.55</td>\n",
       "      <td>8.07</td>\n",
       "      <td>0.0</td>\n",
       "      <td>0.0</td>\n",
       "      <td>1</td>\n",
       "    </tr>\n",
       "  </tbody>\n",
       "</table>\n",
       "</div>"
      ],
      "text/plain": [
       "        RI     Na    Mg    Al     Si     K    Ca   Ba   Fe  Type\n",
       "0  1.52101  13.64  4.49  1.10  71.78  0.06  8.75  0.0  0.0     1\n",
       "1  1.51761  13.89  3.60  1.36  72.73  0.48  7.83  0.0  0.0     1\n",
       "2  1.51618  13.53  3.55  1.54  72.99  0.39  7.78  0.0  0.0     1\n",
       "3  1.51766  13.21  3.69  1.29  72.61  0.57  8.22  0.0  0.0     1\n",
       "4  1.51742  13.27  3.62  1.24  73.08  0.55  8.07  0.0  0.0     1"
      ]
     },
     "execution_count": 14,
     "metadata": {},
     "output_type": "execute_result"
    }
   ],
   "source": [
    "main_df.head()"
   ]
  },
  {
   "cell_type": "markdown",
   "id": "be191ecf",
   "metadata": {},
   "source": [
    "##In Above code,Using the head function to get first 5 rows."
   ]
  },
  {
   "cell_type": "code",
   "execution_count": 15,
   "id": "87ef1469",
   "metadata": {},
   "outputs": [
    {
     "name": "stdout",
     "output_type": "stream",
     "text": [
      "RI      0\n",
      "Na      0\n",
      "Mg      0\n",
      "Al      0\n",
      "Si      0\n",
      "K       0\n",
      "Ca      0\n",
      "Ba      0\n",
      "Fe      0\n",
      "Type    0\n",
      "dtype: int64\n"
     ]
    }
   ],
   "source": [
    "print(main_df.isnull().sum())"
   ]
  },
  {
   "cell_type": "markdown",
   "id": "706ae028",
   "metadata": {},
   "source": [
    "##In Above code,Checking for null values and suming them."
   ]
  },
  {
   "cell_type": "code",
   "execution_count": 16,
   "id": "9f21174f",
   "metadata": {},
   "outputs": [
    {
     "data": {
      "text/html": [
       "<div>\n",
       "<style scoped>\n",
       "    .dataframe tbody tr th:only-of-type {\n",
       "        vertical-align: middle;\n",
       "    }\n",
       "\n",
       "    .dataframe tbody tr th {\n",
       "        vertical-align: top;\n",
       "    }\n",
       "\n",
       "    .dataframe thead th {\n",
       "        text-align: right;\n",
       "    }\n",
       "</style>\n",
       "<table border=\"1\" class=\"dataframe\">\n",
       "  <thead>\n",
       "    <tr style=\"text-align: right;\">\n",
       "      <th></th>\n",
       "      <th>RI</th>\n",
       "      <th>Na</th>\n",
       "      <th>Mg</th>\n",
       "      <th>Al</th>\n",
       "      <th>Si</th>\n",
       "      <th>K</th>\n",
       "      <th>Ca</th>\n",
       "      <th>Ba</th>\n",
       "      <th>Fe</th>\n",
       "      <th>Type</th>\n",
       "    </tr>\n",
       "  </thead>\n",
       "  <tbody>\n",
       "    <tr>\n",
       "      <th>count</th>\n",
       "      <td>214.000000</td>\n",
       "      <td>214.000000</td>\n",
       "      <td>214.000000</td>\n",
       "      <td>214.000000</td>\n",
       "      <td>214.000000</td>\n",
       "      <td>214.000000</td>\n",
       "      <td>214.000000</td>\n",
       "      <td>214.000000</td>\n",
       "      <td>214.000000</td>\n",
       "      <td>214.000000</td>\n",
       "    </tr>\n",
       "    <tr>\n",
       "      <th>mean</th>\n",
       "      <td>1.518365</td>\n",
       "      <td>13.407850</td>\n",
       "      <td>2.684533</td>\n",
       "      <td>1.444907</td>\n",
       "      <td>72.650935</td>\n",
       "      <td>0.497056</td>\n",
       "      <td>8.956963</td>\n",
       "      <td>0.175047</td>\n",
       "      <td>0.057009</td>\n",
       "      <td>2.780374</td>\n",
       "    </tr>\n",
       "    <tr>\n",
       "      <th>std</th>\n",
       "      <td>0.003037</td>\n",
       "      <td>0.816604</td>\n",
       "      <td>1.442408</td>\n",
       "      <td>0.499270</td>\n",
       "      <td>0.774546</td>\n",
       "      <td>0.652192</td>\n",
       "      <td>1.423153</td>\n",
       "      <td>0.497219</td>\n",
       "      <td>0.097439</td>\n",
       "      <td>2.103739</td>\n",
       "    </tr>\n",
       "    <tr>\n",
       "      <th>min</th>\n",
       "      <td>1.511150</td>\n",
       "      <td>10.730000</td>\n",
       "      <td>0.000000</td>\n",
       "      <td>0.290000</td>\n",
       "      <td>69.810000</td>\n",
       "      <td>0.000000</td>\n",
       "      <td>5.430000</td>\n",
       "      <td>0.000000</td>\n",
       "      <td>0.000000</td>\n",
       "      <td>1.000000</td>\n",
       "    </tr>\n",
       "    <tr>\n",
       "      <th>25%</th>\n",
       "      <td>1.516522</td>\n",
       "      <td>12.907500</td>\n",
       "      <td>2.115000</td>\n",
       "      <td>1.190000</td>\n",
       "      <td>72.280000</td>\n",
       "      <td>0.122500</td>\n",
       "      <td>8.240000</td>\n",
       "      <td>0.000000</td>\n",
       "      <td>0.000000</td>\n",
       "      <td>1.000000</td>\n",
       "    </tr>\n",
       "    <tr>\n",
       "      <th>50%</th>\n",
       "      <td>1.517680</td>\n",
       "      <td>13.300000</td>\n",
       "      <td>3.480000</td>\n",
       "      <td>1.360000</td>\n",
       "      <td>72.790000</td>\n",
       "      <td>0.555000</td>\n",
       "      <td>8.600000</td>\n",
       "      <td>0.000000</td>\n",
       "      <td>0.000000</td>\n",
       "      <td>2.000000</td>\n",
       "    </tr>\n",
       "    <tr>\n",
       "      <th>75%</th>\n",
       "      <td>1.519157</td>\n",
       "      <td>13.825000</td>\n",
       "      <td>3.600000</td>\n",
       "      <td>1.630000</td>\n",
       "      <td>73.087500</td>\n",
       "      <td>0.610000</td>\n",
       "      <td>9.172500</td>\n",
       "      <td>0.000000</td>\n",
       "      <td>0.100000</td>\n",
       "      <td>3.000000</td>\n",
       "    </tr>\n",
       "    <tr>\n",
       "      <th>max</th>\n",
       "      <td>1.533930</td>\n",
       "      <td>17.380000</td>\n",
       "      <td>4.490000</td>\n",
       "      <td>3.500000</td>\n",
       "      <td>75.410000</td>\n",
       "      <td>6.210000</td>\n",
       "      <td>16.190000</td>\n",
       "      <td>3.150000</td>\n",
       "      <td>0.510000</td>\n",
       "      <td>7.000000</td>\n",
       "    </tr>\n",
       "  </tbody>\n",
       "</table>\n",
       "</div>"
      ],
      "text/plain": [
       "               RI          Na          Mg          Al          Si           K  \\\n",
       "count  214.000000  214.000000  214.000000  214.000000  214.000000  214.000000   \n",
       "mean     1.518365   13.407850    2.684533    1.444907   72.650935    0.497056   \n",
       "std      0.003037    0.816604    1.442408    0.499270    0.774546    0.652192   \n",
       "min      1.511150   10.730000    0.000000    0.290000   69.810000    0.000000   \n",
       "25%      1.516522   12.907500    2.115000    1.190000   72.280000    0.122500   \n",
       "50%      1.517680   13.300000    3.480000    1.360000   72.790000    0.555000   \n",
       "75%      1.519157   13.825000    3.600000    1.630000   73.087500    0.610000   \n",
       "max      1.533930   17.380000    4.490000    3.500000   75.410000    6.210000   \n",
       "\n",
       "               Ca          Ba          Fe        Type  \n",
       "count  214.000000  214.000000  214.000000  214.000000  \n",
       "mean     8.956963    0.175047    0.057009    2.780374  \n",
       "std      1.423153    0.497219    0.097439    2.103739  \n",
       "min      5.430000    0.000000    0.000000    1.000000  \n",
       "25%      8.240000    0.000000    0.000000    1.000000  \n",
       "50%      8.600000    0.000000    0.000000    2.000000  \n",
       "75%      9.172500    0.000000    0.100000    3.000000  \n",
       "max     16.190000    3.150000    0.510000    7.000000  "
      ]
     },
     "execution_count": 16,
     "metadata": {},
     "output_type": "execute_result"
    }
   ],
   "source": [
    "main_df.describe()"
   ]
  },
  {
   "cell_type": "markdown",
   "id": "1778008d",
   "metadata": {},
   "source": [
    "##In Above code,Using describe function to find count , mean , std ...etc"
   ]
  },
  {
   "cell_type": "code",
   "execution_count": 17,
   "id": "d6ad937b",
   "metadata": {},
   "outputs": [
    {
     "name": "stdout",
     "output_type": "stream",
     "text": [
      "(214, 10)\n"
     ]
    }
   ],
   "source": [
    "print(main_df.shape)"
   ]
  },
  {
   "cell_type": "markdown",
   "id": "40754581",
   "metadata": {},
   "source": [
    "##In Above code,shape is used to find the dimensions ."
   ]
  },
  {
   "cell_type": "code",
   "execution_count": 18,
   "id": "169e5f6a",
   "metadata": {},
   "outputs": [
    {
     "data": {
      "text/plain": [
       "2    76\n",
       "1    70\n",
       "7    29\n",
       "3    17\n",
       "5    13\n",
       "6     9\n",
       "Name: Type, dtype: int64"
      ]
     },
     "execution_count": 18,
     "metadata": {},
     "output_type": "execute_result"
    }
   ],
   "source": [
    "main_df['Type'].value_counts()"
   ]
  },
  {
   "cell_type": "markdown",
   "id": "de63ff58",
   "metadata": {},
   "source": [
    "##In Above code,value_counts() is used to count the 'Type' count."
   ]
  },
  {
   "cell_type": "code",
   "execution_count": 19,
   "id": "c7277599",
   "metadata": {},
   "outputs": [
    {
     "data": {
      "image/png": "[encoded data removed]",
      "text/plain": [
       "<Figure size 720x720 with 1 Axes>"
      ]
     },
     "metadata": {
      "needs_background": "light"
     },
     "output_type": "display_data"
    }
   ],
   "source": [
    "plt.figure(figsize=(10,10))\n",
    "sns.countplot(x='Type', data=main_df, order=main_df['Type'].value_counts().index);"
   ]
  },
  {
   "cell_type": "markdown",
   "id": "0b8cf346",
   "metadata": {},
   "source": [
    "##In Above code,Using countplot() to plot the graph between type and type count."
   ]
  },
  {
   "cell_type": "code",
   "execution_count": 20,
   "id": "76c561df",
   "metadata": {},
   "outputs": [],
   "source": [
    "\n",
    "x_main = main_df.drop('Type', axis=1)\n",
    "y_main = main_df['Type']\n",
    "\n",
    "# setting up testing and training sets\n",
    "X_train, X_test, Y_train, Y_test = train_test_split(x_main, y_main, test_size=0.25, random_state=27)\n"
   ]
  },
  {
   "cell_type": "markdown",
   "id": "a2cc9911",
   "metadata": {},
   "source": [
    "##In Above code,Using train_test_split() to set up testing and training sets."
   ]
  },
  {
   "cell_type": "code",
   "execution_count": 21,
   "id": "0bd98eb7",
   "metadata": {
    "scrolled": true
   },
   "outputs": [
    {
     "name": "stdout",
     "output_type": "stream",
     "text": [
      "              precision    recall  f1-score   support\n",
      "\n",
      "           1       0.38      0.67      0.48        12\n",
      "           2       0.56      0.23      0.32        22\n",
      "           3       0.50      0.33      0.40         3\n",
      "           5       0.33      0.33      0.33         3\n",
      "           6       0.50      1.00      0.67         3\n",
      "           7       0.85      1.00      0.92        11\n",
      "\n",
      "    accuracy                           0.54        54\n",
      "   macro avg       0.52      0.59      0.52        54\n",
      "weighted avg       0.56      0.54      0.50        54\n",
      "\n",
      "[[ 8  2  1  0  1  0]\n",
      " [12  5  0  2  2  1]\n",
      " [ 1  1  1  0  0  0]\n",
      " [ 0  1  0  1  0  1]\n",
      " [ 0  0  0  0  3  0]\n",
      " [ 0  0  0  0  0 11]]\n"
     ]
    }
   ],
   "source": [
    "## Naives bayes\n",
    "gnb = GaussianNB()\n",
    "y_pred_gnb = gnb.fit(X_train, Y_train).predict(X_test)\n",
    "print(metrics.classification_report(Y_test,y_pred_gnb))\n",
    "print(metrics.confusion_matrix(Y_test,y_pred_gnb))"
   ]
  },
  {
   "cell_type": "markdown",
   "id": "3ac5c07e",
   "metadata": {},
   "source": [
    "##In Above code,using fit() to get the model and then predict() to predict with the test function."
   ]
  },
  {
   "cell_type": "markdown",
   "id": "1a18c0a4",
   "metadata": {},
   "source": []
  },
  {
   "cell_type": "code",
   "execution_count": 22,
   "id": "c967393c",
   "metadata": {},
   "outputs": [
    {
     "data": {
      "text/plain": [
       "0.5370370370370371"
      ]
     },
     "execution_count": 22,
     "metadata": {},
     "output_type": "execute_result"
    }
   ],
   "source": [
    "from sklearn.metrics import accuracy_score\n",
    "accuracy_score(Y_test, y_pred_gnb)"
   ]
  },
  {
   "cell_type": "markdown",
   "id": "35c9e6c2",
   "metadata": {},
   "source": [
    "##In Above code,To get the accurate value we are using accuracy_score().\n",
    "here the accuracy is 0.54"
   ]
  },
  {
   "cell_type": "code",
   "execution_count": 23,
   "id": "c62aca4e",
   "metadata": {
    "scrolled": true
   },
   "outputs": [
    {
     "name": "stdout",
     "output_type": "stream",
     "text": [
      "0.6666666666666666\n",
      "              precision    recall  f1-score   support\n",
      "\n",
      "           1       0.59      0.83      0.69        12\n",
      "           2       0.67      0.55      0.60        22\n",
      "           3       0.00      0.00      0.00         3\n",
      "           5       0.50      0.67      0.57         3\n",
      "           6       0.33      0.33      0.33         3\n",
      "           7       0.92      1.00      0.96        11\n",
      "\n",
      "    accuracy                           0.67        54\n",
      "   macro avg       0.50      0.56      0.53        54\n",
      "weighted avg       0.64      0.67      0.64        54\n",
      "\n",
      "[[10  2  0  0  0  0]\n",
      " [ 6 12  0  2  2  0]\n",
      " [ 1  2  0  0  0  0]\n",
      " [ 0  0  0  2  0  1]\n",
      " [ 0  2  0  0  1  0]\n",
      " [ 0  0  0  0  0 11]]\n"
     ]
    },
    {
     "name": "stderr",
     "output_type": "stream",
     "text": [
      "c:\\users\\eduku\\appdata\\local\\programs\\python\\python39\\lib\\site-packages\\sklearn\\metrics\\_classification.py:1308: UndefinedMetricWarning: Precision and F-score are ill-defined and being set to 0.0 in labels with no predicted samples. Use `zero_division` parameter to control this behavior.\n",
      "  _warn_prf(average, modifier, msg_start, len(result))\n",
      "c:\\users\\eduku\\appdata\\local\\programs\\python\\python39\\lib\\site-packages\\sklearn\\metrics\\_classification.py:1308: UndefinedMetricWarning: Precision and F-score are ill-defined and being set to 0.0 in labels with no predicted samples. Use `zero_division` parameter to control this behavior.\n",
      "  _warn_prf(average, modifier, msg_start, len(result))\n",
      "c:\\users\\eduku\\appdata\\local\\programs\\python\\python39\\lib\\site-packages\\sklearn\\metrics\\_classification.py:1308: UndefinedMetricWarning: Precision and F-score are ill-defined and being set to 0.0 in labels with no predicted samples. Use `zero_division` parameter to control this behavior.\n",
      "  _warn_prf(average, modifier, msg_start, len(result))\n"
     ]
    }
   ],
   "source": [
    "##Using SVC method of svm class to use Support Vector Machine Algorithm\n",
    "svc_lin = SVC(kernel = 'linear', random_state =0)\n",
    "svc_lin.fit(X_train, Y_train)\n",
    "y_pred_svc = svc_lin.predict(X_test)\n",
    "print(accuracy_score(Y_test, y_pred_svc))\n",
    "print(metrics.classification_report(Y_test,y_pred_svc))\n",
    "print(metrics.confusion_matrix(Y_test,y_pred_svc))\n"
   ]
  },
  {
   "cell_type": "markdown",
   "id": "78e9abad",
   "metadata": {},
   "source": [
    "## Another approach non linear svm"
   ]
  },
  {
   "cell_type": "markdown",
   "id": "d6459689",
   "metadata": {},
   "source": [
    "##In Above code,Using classification_report() to get the report and to get the matrix we are using confusion_matrix().\n",
    "here the accuracy is 0.67"
   ]
  },
  {
   "cell_type": "code",
   "execution_count": 24,
   "id": "c5c432af",
   "metadata": {},
   "outputs": [
    {
     "name": "stdout",
     "output_type": "stream",
     "text": [
      "0.2222222222222222\n",
      "              precision    recall  f1-score   support\n",
      "\n",
      "           1       0.22      1.00      0.36        12\n",
      "           2       0.00      0.00      0.00        22\n",
      "           3       0.00      0.00      0.00         3\n",
      "           5       0.00      0.00      0.00         3\n",
      "           6       0.00      0.00      0.00         3\n",
      "           7       0.00      0.00      0.00        11\n",
      "\n",
      "    accuracy                           0.22        54\n",
      "   macro avg       0.04      0.17      0.06        54\n",
      "weighted avg       0.05      0.22      0.08        54\n",
      "\n",
      "[[12  0  0  0  0  0]\n",
      " [22  0  0  0  0  0]\n",
      " [ 3  0  0  0  0  0]\n",
      " [ 3  0  0  0  0  0]\n",
      " [ 3  0  0  0  0  0]\n",
      " [11  0  0  0  0  0]]\n"
     ]
    },
    {
     "name": "stderr",
     "output_type": "stream",
     "text": [
      "c:\\users\\eduku\\appdata\\local\\programs\\python\\python39\\lib\\site-packages\\sklearn\\metrics\\_classification.py:1308: UndefinedMetricWarning: Precision and F-score are ill-defined and being set to 0.0 in labels with no predicted samples. Use `zero_division` parameter to control this behavior.\n",
      "  _warn_prf(average, modifier, msg_start, len(result))\n",
      "c:\\users\\eduku\\appdata\\local\\programs\\python\\python39\\lib\\site-packages\\sklearn\\metrics\\_classification.py:1308: UndefinedMetricWarning: Precision and F-score are ill-defined and being set to 0.0 in labels with no predicted samples. Use `zero_division` parameter to control this behavior.\n",
      "  _warn_prf(average, modifier, msg_start, len(result))\n",
      "c:\\users\\eduku\\appdata\\local\\programs\\python\\python39\\lib\\site-packages\\sklearn\\metrics\\_classification.py:1308: UndefinedMetricWarning: Precision and F-score are ill-defined and being set to 0.0 in labels with no predicted samples. Use `zero_division` parameter to control this behavior.\n",
      "  _warn_prf(average, modifier, msg_start, len(result))\n"
     ]
    }
   ],
   "source": [
    "#Using SVC method of svm class to use Kernel SVM Algorithm\n",
    "svc_rbf = SVC(kernel = 'rbf', random_state = 0)\n",
    "svc_rbf.fit(X_train, Y_train)\n",
    "y_pred_svcn = svc_rbf.predict(X_test)\n",
    "print(accuracy_score(Y_test, y_pred_svcn))\n",
    "print(metrics.classification_report(Y_test,y_pred_svcn))\n",
    "print(metrics.confusion_matrix(Y_test,y_pred_svcn))\n"
   ]
  },
  {
   "cell_type": "markdown",
   "id": "1592c0b7",
   "metadata": {},
   "source": [
    "##In Above code, the accuracy is 0.22"
   ]
  },
  {
   "cell_type": "code",
   "execution_count": 25,
   "id": "38517246",
   "metadata": {},
   "outputs": [
    {
     "name": "stderr",
     "output_type": "stream",
     "text": [
      "C:\\Users\\eduku\\AppData\\Local\\Temp/ipykernel_49556/3300566969.py:1: FutureWarning: this method is deprecated in favour of `Styler.format(precision=..)`\n",
      "  main_df.corr().style.background_gradient().set_precision(2)\n"
     ]
    },
    {
     "data": {
      "text/html": [
       "<style type=\"text/css\">\n",
       "#T_a1393_row0_col0, #T_a1393_row1_col1, #T_a1393_row2_col2, #T_a1393_row3_col3, #T_a1393_row4_col4, #T_a1393_row5_col5, #T_a1393_row6_col6, #T_a1393_row7_col7, #T_a1393_row8_col8, #T_a1393_row9_col9 {\n",
       "  background-color: #023858;\n",
       "  color: #f1f1f1;\n",
       "}\n",
       "#T_a1393_row0_col1 {\n",
       "  background-color: #f5eff6;\n",
       "  color: #000000;\n",
       "}\n",
       "#T_a1393_row0_col2 {\n",
       "  background-color: #acc0dd;\n",
       "  color: #000000;\n",
       "}\n",
       "#T_a1393_row0_col3 {\n",
       "  background-color: #f8f1f8;\n",
       "  color: #000000;\n",
       "}\n",
       "#T_a1393_row0_col4, #T_a1393_row1_col8, #T_a1393_row2_col1, #T_a1393_row2_col3, #T_a1393_row2_col6, #T_a1393_row2_col7, #T_a1393_row2_col9, #T_a1393_row4_col0, #T_a1393_row6_col1, #T_a1393_row6_col5, #T_a1393_row9_col2 {\n",
       "  background-color: #fff7fb;\n",
       "  color: #000000;\n",
       "}\n",
       "#T_a1393_row0_col5 {\n",
       "  background-color: #fcf4fa;\n",
       "  color: #000000;\n",
       "}\n",
       "#T_a1393_row0_col6 {\n",
       "  background-color: #045b8e;\n",
       "  color: #f1f1f1;\n",
       "}\n",
       "#T_a1393_row0_col7, #T_a1393_row4_col2 {\n",
       "  background-color: #b5c4df;\n",
       "  color: #000000;\n",
       "}\n",
       "#T_a1393_row0_col8 {\n",
       "  background-color: #bcc7e1;\n",
       "  color: #000000;\n",
       "}\n",
       "#T_a1393_row0_col9 {\n",
       "  background-color: #b4c4df;\n",
       "  color: #000000;\n",
       "}\n",
       "#T_a1393_row1_col0, #T_a1393_row7_col6 {\n",
       "  background-color: #d5d5e8;\n",
       "  color: #000000;\n",
       "}\n",
       "#T_a1393_row1_col2, #T_a1393_row2_col0 {\n",
       "  background-color: #c9cee4;\n",
       "  color: #000000;\n",
       "}\n",
       "#T_a1393_row1_col3, #T_a1393_row5_col2 {\n",
       "  background-color: #8fb4d6;\n",
       "  color: #000000;\n",
       "}\n",
       "#T_a1393_row1_col4, #T_a1393_row9_col6 {\n",
       "  background-color: #bdc8e1;\n",
       "  color: #000000;\n",
       "}\n",
       "#T_a1393_row1_col5, #T_a1393_row9_col8 {\n",
       "  background-color: #f9f2f8;\n",
       "  color: #000000;\n",
       "}\n",
       "#T_a1393_row1_col6 {\n",
       "  background-color: #eee8f3;\n",
       "  color: #000000;\n",
       "}\n",
       "#T_a1393_row1_col7 {\n",
       "  background-color: #5c9fc9;\n",
       "  color: #f1f1f1;\n",
       "}\n",
       "#T_a1393_row1_col9, #T_a1393_row9_col7 {\n",
       "  background-color: #1278b4;\n",
       "  color: #f1f1f1;\n",
       "}\n",
       "#T_a1393_row2_col4, #T_a1393_row2_col5, #T_a1393_row9_col0 {\n",
       "  background-color: #d2d2e7;\n",
       "  color: #000000;\n",
       "}\n",
       "#T_a1393_row2_col8, #T_a1393_row4_col7 {\n",
       "  background-color: #cdd0e5;\n",
       "  color: #000000;\n",
       "}\n",
       "#T_a1393_row3_col0, #T_a1393_row5_col6 {\n",
       "  background-color: #f2ecf5;\n",
       "  color: #000000;\n",
       "}\n",
       "#T_a1393_row3_col1 {\n",
       "  background-color: #b3c3de;\n",
       "  color: #000000;\n",
       "}\n",
       "#T_a1393_row3_col2, #T_a1393_row6_col3, #T_a1393_row7_col2, #T_a1393_row7_col8 {\n",
       "  background-color: #e7e3f0;\n",
       "  color: #000000;\n",
       "}\n",
       "#T_a1393_row3_col4, #T_a1393_row7_col0 {\n",
       "  background-color: #afc1dd;\n",
       "  color: #000000;\n",
       "}\n",
       "#T_a1393_row3_col5 {\n",
       "  background-color: #78abd0;\n",
       "  color: #f1f1f1;\n",
       "}\n",
       "#T_a1393_row3_col6 {\n",
       "  background-color: #ece7f2;\n",
       "  color: #000000;\n",
       "}\n",
       "#T_a1393_row3_col7, #T_a1393_row7_col3 {\n",
       "  background-color: #2c89bd;\n",
       "  color: #f1f1f1;\n",
       "}\n",
       "#T_a1393_row3_col8 {\n",
       "  background-color: #eae6f1;\n",
       "  color: #000000;\n",
       "}\n",
       "#T_a1393_row3_col9 {\n",
       "  background-color: #056caa;\n",
       "  color: #f1f1f1;\n",
       "}\n",
       "#T_a1393_row4_col1, #T_a1393_row4_col6, #T_a1393_row5_col0 {\n",
       "  background-color: #e4e1ef;\n",
       "  color: #000000;\n",
       "}\n",
       "#T_a1393_row4_col3 {\n",
       "  background-color: #b8c6e0;\n",
       "  color: #000000;\n",
       "}\n",
       "#T_a1393_row4_col5 {\n",
       "  background-color: #f1ebf4;\n",
       "  color: #000000;\n",
       "}\n",
       "#T_a1393_row4_col8 {\n",
       "  background-color: #ede8f3;\n",
       "  color: #000000;\n",
       "}\n",
       "#T_a1393_row4_col9 {\n",
       "  background-color: #6da6cd;\n",
       "  color: #f1f1f1;\n",
       "}\n",
       "#T_a1393_row5_col1 {\n",
       "  background-color: #fef6fb;\n",
       "  color: #000000;\n",
       "}\n",
       "#T_a1393_row5_col3 {\n",
       "  background-color: #5ea0ca;\n",
       "  color: #f1f1f1;\n",
       "}\n",
       "#T_a1393_row5_col4 {\n",
       "  background-color: #d6d6e9;\n",
       "  color: #000000;\n",
       "}\n",
       "#T_a1393_row5_col7 {\n",
       "  background-color: #bfc9e1;\n",
       "  color: #000000;\n",
       "}\n",
       "#T_a1393_row5_col8 {\n",
       "  background-color: #dedcec;\n",
       "  color: #000000;\n",
       "}\n",
       "#T_a1393_row5_col9 {\n",
       "  background-color: #94b6d7;\n",
       "  color: #000000;\n",
       "}\n",
       "#T_a1393_row6_col0 {\n",
       "  background-color: #04598c;\n",
       "  color: #f1f1f1;\n",
       "}\n",
       "#T_a1393_row6_col2 {\n",
       "  background-color: #e1dfed;\n",
       "  color: #000000;\n",
       "}\n",
       "#T_a1393_row6_col4 {\n",
       "  background-color: #d8d7e9;\n",
       "  color: #000000;\n",
       "}\n",
       "#T_a1393_row6_col7 {\n",
       "  background-color: #ced0e6;\n",
       "  color: #000000;\n",
       "}\n",
       "#T_a1393_row6_col8 {\n",
       "  background-color: #c1cae2;\n",
       "  color: #000000;\n",
       "}\n",
       "#T_a1393_row6_col9 {\n",
       "  background-color: #91b5d6;\n",
       "  color: #000000;\n",
       "}\n",
       "#T_a1393_row7_col1 {\n",
       "  background-color: #80aed2;\n",
       "  color: #f1f1f1;\n",
       "}\n",
       "#T_a1393_row7_col4 {\n",
       "  background-color: #c4cbe3;\n",
       "  color: #000000;\n",
       "}\n",
       "#T_a1393_row7_col5 {\n",
       "  background-color: #d9d8ea;\n",
       "  color: #000000;\n",
       "}\n",
       "#T_a1393_row7_col9 {\n",
       "  background-color: #056fae;\n",
       "  color: #f1f1f1;\n",
       "}\n",
       "#T_a1393_row8_col0 {\n",
       "  background-color: #8bb2d4;\n",
       "  color: #000000;\n",
       "}\n",
       "#T_a1393_row8_col1 {\n",
       "  background-color: #fbf4f9;\n",
       "  color: #000000;\n",
       "}\n",
       "#T_a1393_row8_col2 {\n",
       "  background-color: #7eadd1;\n",
       "  color: #f1f1f1;\n",
       "}\n",
       "#T_a1393_row8_col3 {\n",
       "  background-color: #c8cde4;\n",
       "  color: #000000;\n",
       "}\n",
       "#T_a1393_row8_col4, #T_a1393_row8_col7 {\n",
       "  background-color: #c2cbe2;\n",
       "  color: #000000;\n",
       "}\n",
       "#T_a1393_row8_col5 {\n",
       "  background-color: #d3d4e7;\n",
       "  color: #000000;\n",
       "}\n",
       "#T_a1393_row8_col6 {\n",
       "  background-color: #9fbad9;\n",
       "  color: #000000;\n",
       "}\n",
       "#T_a1393_row8_col9 {\n",
       "  background-color: #b9c6e0;\n",
       "  color: #000000;\n",
       "}\n",
       "#T_a1393_row9_col1 {\n",
       "  background-color: #3d93c2;\n",
       "  color: #f1f1f1;\n",
       "}\n",
       "#T_a1393_row9_col3 {\n",
       "  background-color: #0d75b3;\n",
       "  color: #f1f1f1;\n",
       "}\n",
       "#T_a1393_row9_col4 {\n",
       "  background-color: #88b1d4;\n",
       "  color: #000000;\n",
       "}\n",
       "#T_a1393_row9_col5 {\n",
       "  background-color: #d4d4e8;\n",
       "  color: #000000;\n",
       "}\n",
       "</style>\n",
       "<table id=\"T_a1393_\">\n",
       "  <thead>\n",
       "    <tr>\n",
       "      <th class=\"blank level0\" >&nbsp;</th>\n",
       "      <th class=\"col_heading level0 col0\" >RI</th>\n",
       "      <th class=\"col_heading level0 col1\" >Na</th>\n",
       "      <th class=\"col_heading level0 col2\" >Mg</th>\n",
       "      <th class=\"col_heading level0 col3\" >Al</th>\n",
       "      <th class=\"col_heading level0 col4\" >Si</th>\n",
       "      <th class=\"col_heading level0 col5\" >K</th>\n",
       "      <th class=\"col_heading level0 col6\" >Ca</th>\n",
       "      <th class=\"col_heading level0 col7\" >Ba</th>\n",
       "      <th class=\"col_heading level0 col8\" >Fe</th>\n",
       "      <th class=\"col_heading level0 col9\" >Type</th>\n",
       "    </tr>\n",
       "  </thead>\n",
       "  <tbody>\n",
       "    <tr>\n",
       "      <th id=\"T_a1393_level0_row0\" class=\"row_heading level0 row0\" >RI</th>\n",
       "      <td id=\"T_a1393_row0_col0\" class=\"data row0 col0\" >1.00</td>\n",
       "      <td id=\"T_a1393_row0_col1\" class=\"data row0 col1\" >-0.19</td>\n",
       "      <td id=\"T_a1393_row0_col2\" class=\"data row0 col2\" >-0.12</td>\n",
       "      <td id=\"T_a1393_row0_col3\" class=\"data row0 col3\" >-0.41</td>\n",
       "      <td id=\"T_a1393_row0_col4\" class=\"data row0 col4\" >-0.54</td>\n",
       "      <td id=\"T_a1393_row0_col5\" class=\"data row0 col5\" >-0.29</td>\n",
       "      <td id=\"T_a1393_row0_col6\" class=\"data row0 col6\" >0.81</td>\n",
       "      <td id=\"T_a1393_row0_col7\" class=\"data row0 col7\" >-0.00</td>\n",
       "      <td id=\"T_a1393_row0_col8\" class=\"data row0 col8\" >0.14</td>\n",
       "      <td id=\"T_a1393_row0_col9\" class=\"data row0 col9\" >-0.16</td>\n",
       "    </tr>\n",
       "    <tr>\n",
       "      <th id=\"T_a1393_level0_row1\" class=\"row_heading level0 row1\" >Na</th>\n",
       "      <td id=\"T_a1393_row1_col0\" class=\"data row1 col0\" >-0.19</td>\n",
       "      <td id=\"T_a1393_row1_col1\" class=\"data row1 col1\" >1.00</td>\n",
       "      <td id=\"T_a1393_row1_col2\" class=\"data row1 col2\" >-0.27</td>\n",
       "      <td id=\"T_a1393_row1_col3\" class=\"data row1 col3\" >0.16</td>\n",
       "      <td id=\"T_a1393_row1_col4\" class=\"data row1 col4\" >-0.07</td>\n",
       "      <td id=\"T_a1393_row1_col5\" class=\"data row1 col5\" >-0.27</td>\n",
       "      <td id=\"T_a1393_row1_col6\" class=\"data row1 col6\" >-0.28</td>\n",
       "      <td id=\"T_a1393_row1_col7\" class=\"data row1 col7\" >0.33</td>\n",
       "      <td id=\"T_a1393_row1_col8\" class=\"data row1 col8\" >-0.24</td>\n",
       "      <td id=\"T_a1393_row1_col9\" class=\"data row1 col9\" >0.50</td>\n",
       "    </tr>\n",
       "    <tr>\n",
       "      <th id=\"T_a1393_level0_row2\" class=\"row_heading level0 row2\" >Mg</th>\n",
       "      <td id=\"T_a1393_row2_col0\" class=\"data row2 col0\" >-0.12</td>\n",
       "      <td id=\"T_a1393_row2_col1\" class=\"data row2 col1\" >-0.27</td>\n",
       "      <td id=\"T_a1393_row2_col2\" class=\"data row2 col2\" >1.00</td>\n",
       "      <td id=\"T_a1393_row2_col3\" class=\"data row2 col3\" >-0.48</td>\n",
       "      <td id=\"T_a1393_row2_col4\" class=\"data row2 col4\" >-0.17</td>\n",
       "      <td id=\"T_a1393_row2_col5\" class=\"data row2 col5\" >0.01</td>\n",
       "      <td id=\"T_a1393_row2_col6\" class=\"data row2 col6\" >-0.44</td>\n",
       "      <td id=\"T_a1393_row2_col7\" class=\"data row2 col7\" >-0.49</td>\n",
       "      <td id=\"T_a1393_row2_col8\" class=\"data row2 col8\" >0.08</td>\n",
       "      <td id=\"T_a1393_row2_col9\" class=\"data row2 col9\" >-0.74</td>\n",
       "    </tr>\n",
       "    <tr>\n",
       "      <th id=\"T_a1393_level0_row3\" class=\"row_heading level0 row3\" >Al</th>\n",
       "      <td id=\"T_a1393_row3_col0\" class=\"data row3 col0\" >-0.41</td>\n",
       "      <td id=\"T_a1393_row3_col1\" class=\"data row3 col1\" >0.16</td>\n",
       "      <td id=\"T_a1393_row3_col2\" class=\"data row3 col2\" >-0.48</td>\n",
       "      <td id=\"T_a1393_row3_col3\" class=\"data row3 col3\" >1.00</td>\n",
       "      <td id=\"T_a1393_row3_col4\" class=\"data row3 col4\" >-0.01</td>\n",
       "      <td id=\"T_a1393_row3_col5\" class=\"data row3 col5\" >0.33</td>\n",
       "      <td id=\"T_a1393_row3_col6\" class=\"data row3 col6\" >-0.26</td>\n",
       "      <td id=\"T_a1393_row3_col7\" class=\"data row3 col7\" >0.48</td>\n",
       "      <td id=\"T_a1393_row3_col8\" class=\"data row3 col8\" >-0.07</td>\n",
       "      <td id=\"T_a1393_row3_col9\" class=\"data row3 col9\" >0.60</td>\n",
       "    </tr>\n",
       "    <tr>\n",
       "      <th id=\"T_a1393_level0_row4\" class=\"row_heading level0 row4\" >Si</th>\n",
       "      <td id=\"T_a1393_row4_col0\" class=\"data row4 col0\" >-0.54</td>\n",
       "      <td id=\"T_a1393_row4_col1\" class=\"data row4 col1\" >-0.07</td>\n",
       "      <td id=\"T_a1393_row4_col2\" class=\"data row4 col2\" >-0.17</td>\n",
       "      <td id=\"T_a1393_row4_col3\" class=\"data row4 col3\" >-0.01</td>\n",
       "      <td id=\"T_a1393_row4_col4\" class=\"data row4 col4\" >1.00</td>\n",
       "      <td id=\"T_a1393_row4_col5\" class=\"data row4 col5\" >-0.19</td>\n",
       "      <td id=\"T_a1393_row4_col6\" class=\"data row4 col6\" >-0.21</td>\n",
       "      <td id=\"T_a1393_row4_col7\" class=\"data row4 col7\" >-0.10</td>\n",
       "      <td id=\"T_a1393_row4_col8\" class=\"data row4 col8\" >-0.09</td>\n",
       "      <td id=\"T_a1393_row4_col9\" class=\"data row4 col9\" >0.15</td>\n",
       "    </tr>\n",
       "    <tr>\n",
       "      <th id=\"T_a1393_level0_row5\" class=\"row_heading level0 row5\" >K</th>\n",
       "      <td id=\"T_a1393_row5_col0\" class=\"data row5 col0\" >-0.29</td>\n",
       "      <td id=\"T_a1393_row5_col1\" class=\"data row5 col1\" >-0.27</td>\n",
       "      <td id=\"T_a1393_row5_col2\" class=\"data row5 col2\" >0.01</td>\n",
       "      <td id=\"T_a1393_row5_col3\" class=\"data row5 col3\" >0.33</td>\n",
       "      <td id=\"T_a1393_row5_col4\" class=\"data row5 col4\" >-0.19</td>\n",
       "      <td id=\"T_a1393_row5_col5\" class=\"data row5 col5\" >1.00</td>\n",
       "      <td id=\"T_a1393_row5_col6\" class=\"data row5 col6\" >-0.32</td>\n",
       "      <td id=\"T_a1393_row5_col7\" class=\"data row5 col7\" >-0.04</td>\n",
       "      <td id=\"T_a1393_row5_col8\" class=\"data row5 col8\" >-0.01</td>\n",
       "      <td id=\"T_a1393_row5_col9\" class=\"data row5 col9\" >-0.01</td>\n",
       "    </tr>\n",
       "    <tr>\n",
       "      <th id=\"T_a1393_level0_row6\" class=\"row_heading level0 row6\" >Ca</th>\n",
       "      <td id=\"T_a1393_row6_col0\" class=\"data row6 col0\" >0.81</td>\n",
       "      <td id=\"T_a1393_row6_col1\" class=\"data row6 col1\" >-0.28</td>\n",
       "      <td id=\"T_a1393_row6_col2\" class=\"data row6 col2\" >-0.44</td>\n",
       "      <td id=\"T_a1393_row6_col3\" class=\"data row6 col3\" >-0.26</td>\n",
       "      <td id=\"T_a1393_row6_col4\" class=\"data row6 col4\" >-0.21</td>\n",
       "      <td id=\"T_a1393_row6_col5\" class=\"data row6 col5\" >-0.32</td>\n",
       "      <td id=\"T_a1393_row6_col6\" class=\"data row6 col6\" >1.00</td>\n",
       "      <td id=\"T_a1393_row6_col7\" class=\"data row6 col7\" >-0.11</td>\n",
       "      <td id=\"T_a1393_row6_col8\" class=\"data row6 col8\" >0.12</td>\n",
       "      <td id=\"T_a1393_row6_col9\" class=\"data row6 col9\" >0.00</td>\n",
       "    </tr>\n",
       "    <tr>\n",
       "      <th id=\"T_a1393_level0_row7\" class=\"row_heading level0 row7\" >Ba</th>\n",
       "      <td id=\"T_a1393_row7_col0\" class=\"data row7 col0\" >-0.00</td>\n",
       "      <td id=\"T_a1393_row7_col1\" class=\"data row7 col1\" >0.33</td>\n",
       "      <td id=\"T_a1393_row7_col2\" class=\"data row7 col2\" >-0.49</td>\n",
       "      <td id=\"T_a1393_row7_col3\" class=\"data row7 col3\" >0.48</td>\n",
       "      <td id=\"T_a1393_row7_col4\" class=\"data row7 col4\" >-0.10</td>\n",
       "      <td id=\"T_a1393_row7_col5\" class=\"data row7 col5\" >-0.04</td>\n",
       "      <td id=\"T_a1393_row7_col6\" class=\"data row7 col6\" >-0.11</td>\n",
       "      <td id=\"T_a1393_row7_col7\" class=\"data row7 col7\" >1.00</td>\n",
       "      <td id=\"T_a1393_row7_col8\" class=\"data row7 col8\" >-0.06</td>\n",
       "      <td id=\"T_a1393_row7_col9\" class=\"data row7 col9\" >0.58</td>\n",
       "    </tr>\n",
       "    <tr>\n",
       "      <th id=\"T_a1393_level0_row8\" class=\"row_heading level0 row8\" >Fe</th>\n",
       "      <td id=\"T_a1393_row8_col0\" class=\"data row8 col0\" >0.14</td>\n",
       "      <td id=\"T_a1393_row8_col1\" class=\"data row8 col1\" >-0.24</td>\n",
       "      <td id=\"T_a1393_row8_col2\" class=\"data row8 col2\" >0.08</td>\n",
       "      <td id=\"T_a1393_row8_col3\" class=\"data row8 col3\" >-0.07</td>\n",
       "      <td id=\"T_a1393_row8_col4\" class=\"data row8 col4\" >-0.09</td>\n",
       "      <td id=\"T_a1393_row8_col5\" class=\"data row8 col5\" >-0.01</td>\n",
       "      <td id=\"T_a1393_row8_col6\" class=\"data row8 col6\" >0.12</td>\n",
       "      <td id=\"T_a1393_row8_col7\" class=\"data row8 col7\" >-0.06</td>\n",
       "      <td id=\"T_a1393_row8_col8\" class=\"data row8 col8\" >1.00</td>\n",
       "      <td id=\"T_a1393_row8_col9\" class=\"data row8 col9\" >-0.19</td>\n",
       "    </tr>\n",
       "    <tr>\n",
       "      <th id=\"T_a1393_level0_row9\" class=\"row_heading level0 row9\" >Type</th>\n",
       "      <td id=\"T_a1393_row9_col0\" class=\"data row9 col0\" >-0.16</td>\n",
       "      <td id=\"T_a1393_row9_col1\" class=\"data row9 col1\" >0.50</td>\n",
       "      <td id=\"T_a1393_row9_col2\" class=\"data row9 col2\" >-0.74</td>\n",
       "      <td id=\"T_a1393_row9_col3\" class=\"data row9 col3\" >0.60</td>\n",
       "      <td id=\"T_a1393_row9_col4\" class=\"data row9 col4\" >0.15</td>\n",
       "      <td id=\"T_a1393_row9_col5\" class=\"data row9 col5\" >-0.01</td>\n",
       "      <td id=\"T_a1393_row9_col6\" class=\"data row9 col6\" >0.00</td>\n",
       "      <td id=\"T_a1393_row9_col7\" class=\"data row9 col7\" >0.58</td>\n",
       "      <td id=\"T_a1393_row9_col8\" class=\"data row9 col8\" >-0.19</td>\n",
       "      <td id=\"T_a1393_row9_col9\" class=\"data row9 col9\" >1.00</td>\n",
       "    </tr>\n",
       "  </tbody>\n",
       "</table>\n"
      ],
      "text/plain": [
       "<pandas.io.formats.style.Styler at 0x1e217fde880>"
      ]
     },
     "execution_count": 25,
     "metadata": {},
     "output_type": "execute_result"
    }
   ],
   "source": [
    "main_df.corr().style.background_gradient().set_precision(2)"
   ]
  },
  {
   "cell_type": "markdown",
   "id": "2264fbd5",
   "metadata": {},
   "source": [
    "Inference: Ba and AI has strong positive correlation with the Type hence they will have impact on building model."
   ]
  },
  {
   "cell_type": "markdown",
   "id": "b3c8d8c4",
   "metadata": {},
   "source": [
    "Below we are visualizing other features."
   ]
  },
  {
   "cell_type": "code",
   "execution_count": 26,
   "id": "f636b8d9",
   "metadata": {
    "scrolled": true
   },
   "outputs": [
    {
     "name": "stderr",
     "output_type": "stream",
     "text": [
      "c:\\users\\eduku\\appdata\\local\\programs\\python\\python39\\lib\\site-packages\\seaborn\\distributions.py:2619: FutureWarning: `distplot` is a deprecated function and will be removed in a future version. Please adapt your code to use either `displot` (a figure-level function with similar flexibility) or `histplot` (an axes-level function for histograms).\n",
      "  warnings.warn(msg, FutureWarning)\n"
     ]
    },
    {
     "data": {
      "text/plain": [
       "<AxesSubplot:xlabel='Ba', ylabel='Density'>"
      ]
     },
     "execution_count": 26,
     "metadata": {},
     "output_type": "execute_result"
    },
    {
     "data": {
      "image/png": "[encoded data removed]",
      "text/plain": [
       "<Figure size 1440x288 with 1 Axes>"
      ]
     },
     "metadata": {
      "needs_background": "light"
     },
     "output_type": "display_data"
    }
   ],
   "source": [
    "f = plt.figure(figsize=(20,4))\n",
    "f.add_subplot(1,2,1)\n",
    "sns.distplot(main_df['Ba'], color='green')\n"
   ]
  },
  {
   "cell_type": "markdown",
   "id": "364f6f3d",
   "metadata": {},
   "source": [
    "Inference: all the distributions are with in the range of 0 to 0.3."
   ]
  },
  {
   "cell_type": "code",
   "execution_count": 27,
   "id": "ce2f54a1",
   "metadata": {
    "scrolled": true
   },
   "outputs": [
    {
     "data": {
      "text/plain": [
       "<seaborn.axisgrid.FacetGrid at 0x1e217b63520>"
      ]
     },
     "execution_count": 27,
     "metadata": {},
     "output_type": "execute_result"
    },
    {
     "data": {
      "image/png": "[encoded data removed]",
      "text/plain": [
       "<Figure size 1296x216 with 6 Axes>"
      ]
     },
     "metadata": {
      "needs_background": "light"
     },
     "output_type": "display_data"
    }
   ],
   "source": [
    "g = sns.FacetGrid(main_df, col='Type')\n",
    "g.map(plt.hist, 'Al', bins=7)"
   ]
  },
  {
   "cell_type": "markdown",
   "id": "308fe944",
   "metadata": {},
   "source": [
    "Inference : AL has more impact on type 1 and type 2 with values ranging from 1 to 2 adn 1 to 2.2 respectively."
   ]
  },
  {
   "cell_type": "markdown",
   "id": "f595573c",
   "metadata": {},
   "source": [
    "WHY : we are not able to predict probabilities of happening type feature with other features with good accurancy but SVM(linear) accuaracy is good when compared to Naives bayes approach because we are able to draw support vectors and margin to predict the data with high accuracy."
   ]
  }
 ],
 "metadata": {
  "kernelspec": {
   "display_name": "Python 3 (ipykernel)",
   "language": "python",
   "name": "python3"
  },
  "language_info": {
   "codemirror_mode": {
    "name": "ipython",
    "version": 3
   },
   "file_extension": ".py",
   "mimetype": "text/x-python",
   "name": "python",
   "nbconvert_exporter": "python",
   "pygments_lexer": "ipython3",
   "version": "3.9.7"
  }
 },
 "nbformat": 4,
 "nbformat_minor": 5
}
