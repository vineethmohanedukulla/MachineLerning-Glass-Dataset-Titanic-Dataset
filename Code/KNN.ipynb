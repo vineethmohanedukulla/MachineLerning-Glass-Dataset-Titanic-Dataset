{
  "nbformat": 4,
  "nbformat_minor": 0,
  "metadata": {
    "colab": {
      "name": "KNN.ipynb",
      "provenance": [],
      "collapsed_sections": []
    },
    "kernelspec": {
      "name": "python3",
      "display_name": "Python 3"
    }
  },
  "cells": [
    {
      "cell_type": "code",
      "metadata": {
        "id": "1Ly5qI5uaNW1"
      },
      "source": [
        "import pandas as pd\n",
        "from sklearn.svm import SVC, LinearSVC\n",
        "from sklearn.neighbors import KNeighborsClassifier"
      ],
      "execution_count": 1,
      "outputs": []
    },
    {
      "cell_type": "code",
      "metadata": {
        "id": "0fKZeOPkaREi"
      },
      "source": [
        "train_df = pd.read_csv('/content/train_preprocessed.csv')\n",
        "test_df = pd.read_csv('/content/test_preprocessed.csv')"
      ],
      "execution_count": 2,
      "outputs": []
    },
    {
      "cell_type": "code",
      "metadata": {
        "colab": {
          "base_uri": "https://localhost:8080/"
        },
        "id": "UBok9WGyoHJw",
        "outputId": "4ca3e4eb-72c5-4e36-e267-1e71d0d76214"
      },
      "source": [
        "print(train_df.isnull().sum())\n",
        "print('-'*10)\n",
        "print(test_df.isnull().sum())"
      ],
      "execution_count": 3,
      "outputs": [
        {
          "output_type": "stream",
          "name": "stdout",
          "text": [
            "Survived    0\n",
            "Pclass      0\n",
            "Sex         0\n",
            "Age         0\n",
            "Fare        0\n",
            "Embarked    0\n",
            "dtype: int64\n",
            "----------\n",
            "PassengerId    0\n",
            "Pclass         0\n",
            "Sex            0\n",
            "Age            0\n",
            "Fare           0\n",
            "Embarked       0\n",
            "dtype: int64\n"
          ]
        }
      ]
    },
    {
      "cell_type": "code",
      "metadata": {
        "id": "gUAwj94WoE13"
      },
      "source": [
        "X_train = train_df.drop(\"Survived\",axis=1)\n",
        "Y_train = train_df[\"Survived\"]\n",
        "\n",
        "X_test = test_df.drop(\"PassengerId\",axis=1).copy()"
      ],
      "execution_count": 4,
      "outputs": []
    },
    {
      "cell_type": "code",
      "metadata": {
        "id": "QC0IItezaRQa",
        "colab": {
          "base_uri": "https://localhost:8080/"
        },
        "outputId": "be8f5ccf-d768-4dd0-b99c-326a5578401e"
      },
      "source": [
        "##KNN\n",
        "knn = KNeighborsClassifier(n_neighbors = 3)\n",
        "knn.fit(X_train, Y_train)\n",
        "Y_pred = knn.predict(X_test)\n",
        "acc_knn = round(knn.score(X_train, Y_train) * 100, 2)\n",
        "print(\"KNN accuracy is:\",acc_knn)"
      ],
      "execution_count": 5,
      "outputs": [
        {
          "output_type": "stream",
          "name": "stdout",
          "text": [
            "KNN accuracy is: 83.5\n"
          ]
        }
      ]
    }
  ]
}