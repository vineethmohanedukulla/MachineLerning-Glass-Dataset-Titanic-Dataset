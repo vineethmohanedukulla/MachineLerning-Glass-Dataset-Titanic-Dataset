{
  "nbformat": 4,
  "nbformat_minor": 0,
  "metadata": {
    "colab": {
      "name": "SVM.ipynb",
      "provenance": [],
      "collapsed_sections": []
    },
    "kernelspec": {
      "name": "python3",
      "display_name": "Python 3"
    }
  },
  "cells": [
    {
      "cell_type": "markdown",
      "metadata": {
        "id": "y3iqZyUOa9sU"
      },
      "source": [
        "# SVM"
      ]
    },
    {
      "cell_type": "code",
      "metadata": {
        "id": "r5rowo9pamxX"
      },
      "source": [
        "import pandas as pd\n",
        "from sklearn.svm import SVC, LinearSVC"
      ],
      "execution_count": 1,
      "outputs": []
    },
    {
      "cell_type": "code",
      "metadata": {
        "id": "kfxhpUZcas9l"
      },
      "source": [
        "train_df = pd.read_csv('/content/train_preprocessed.csv')\n",
        "test_df = pd.read_csv('/content/test_preprocessed.csv')"
      ],
      "execution_count": 2,
      "outputs": []
    },
    {
      "cell_type": "code",
      "metadata": {
        "colab": {
          "base_uri": "https://localhost:8080/"
        },
        "id": "hb9LME5fjrC3",
        "outputId": "7b968a5a-81a1-45fc-d5b5-c05d6523df42"
      },
      "source": [
        "print(train_df.isnull().sum())\n",
        "print('-'*10)\n",
        "print(test_df.isnull().sum())"
      ],
      "execution_count": 3,
      "outputs": [
        {
          "output_type": "stream",
          "name": "stdout",
          "text": [
            "Survived    0\n",
            "Pclass      0\n",
            "Sex         0\n",
            "Age         0\n",
            "Fare        0\n",
            "Embarked    0\n",
            "dtype: int64\n",
            "----------\n",
            "PassengerId    0\n",
            "Pclass         0\n",
            "Sex            0\n",
            "Age            0\n",
            "Fare           0\n",
            "Embarked       0\n",
            "dtype: int64\n"
          ]
        }
      ]
    },
    {
      "cell_type": "code",
      "metadata": {
        "id": "jj45slm2gO5I"
      },
      "source": [
        "X_train = train_df.drop(\"Survived\", axis=1)\n",
        "Y_train = train_df[\"Survived\"]\n",
        "\n",
        "X_test = test_df.drop(\"PassengerId\",axis=1)"
      ],
      "execution_count": 4,
      "outputs": []
    },
    {
      "cell_type": "markdown",
      "metadata": {
        "id": "dT97Q6wqa4iG"
      },
      "source": [
        "##SVM\n",
        "####https://scikit-learn.org/stable/modules/generated/sklearn.svm.SVC.html"
      ]
    },
    {
      "cell_type": "code",
      "metadata": {
        "id": "6ZY7Spjya2EW",
        "colab": {
          "base_uri": "https://localhost:8080/"
        },
        "outputId": "6bc2830d-273a-41f3-b435-05736cbeabc4"
      },
      "source": [
        "svc = SVC(max_iter=1000)\n",
        "\n",
        "svc.fit(X_train, Y_train)\n",
        "\n",
        "Y_pred = svc.predict(X_test)\n",
        "\n",
        "acc_svc = round(svc.score(X_train, Y_train) * 100, 2)\n",
        "\n",
        "print(\"svm accuracy =\", acc_svc)"
      ],
      "execution_count": 5,
      "outputs": [
        {
          "output_type": "stream",
          "name": "stdout",
          "text": [
            "svm accuracy = 68.35\n"
          ]
        }
      ]
    },
    {
      "cell_type": "markdown",
      "metadata": {
        "id": "k9l743WKmmBC"
      },
      "source": [
        "#LinearSVM\n",
        "####https://scikit-learn.org/stable/modules/generated/sklearn.svm.LinearSVC.html#sklearn.svm.LinearSVC"
      ]
    },
    {
      "cell_type": "code",
      "metadata": {
        "colab": {
          "base_uri": "https://localhost:8080/"
        },
        "id": "NQApYU0nmkpZ",
        "outputId": "5e496889-ceaa-4e36-fe58-a22e27c0c42a"
      },
      "source": [
        "# add the max_iter parameter and see the resutls\n",
        "svc = LinearSVC()\n",
        "\n",
        "svc.fit(X_train, Y_train)\n",
        "\n",
        "Y_pred = svc.predict(X_test)\n",
        "\n",
        "acc_svc = round(svc.score(X_train, Y_train) * 100, 2)\n",
        "\n",
        "print(\"svm accuracy =\", acc_svc)"
      ],
      "execution_count": 7,
      "outputs": [
        {
          "output_type": "stream",
          "name": "stdout",
          "text": [
            "svm accuracy = 75.87\n"
          ]
        },
        {
          "output_type": "stream",
          "name": "stderr",
          "text": [
            "/usr/local/lib/python3.7/dist-packages/sklearn/svm/_base.py:947: ConvergenceWarning: Liblinear failed to converge, increase the number of iterations.\n",
            "  \"the number of iterations.\", ConvergenceWarning)\n"
          ]
        }
      ]
    },
    {
      "cell_type": "code",
      "metadata": {
        "id": "w6m9Vtu3nygV"
      },
      "source": [
        ""
      ],
      "execution_count": null,
      "outputs": []
    }
  ]
}